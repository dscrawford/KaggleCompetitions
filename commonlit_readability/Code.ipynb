{
 "cells": [
  {
   "cell_type": "code",
   "execution_count": 161,
   "metadata": {},
   "outputs": [],
   "source": [
    "# torch\n",
    "import torch\n",
    "import torch.nn as nn\n",
    "import torch.optim as optim\n",
    "\n",
    "from torch.utils.data import DataLoader"
   ]
  },
  {
   "cell_type": "code",
   "execution_count": 162,
   "metadata": {},
   "outputs": [],
   "source": [
    "# additional libraries\n",
    "import pandas as pd\n",
    "import numpy as np\n",
    "import spacy\n",
    "import xgboost as xgb\n",
    "import matplotlib.pyplot as plt\n",
    "from tqdm import tqdm\n",
    "from time import sleep\n",
    "\n",
    "# sklearn utils\n",
    "from sklearn.metrics import mean_squared_error\n",
    "from sklearn.cluster import KMeans\n",
    "\n",
    "from sklearn.model_selection import train_test_split"
   ]
  },
  {
   "cell_type": "code",
   "execution_count": 249,
   "metadata": {},
   "outputs": [],
   "source": [
    "####\n",
    "# Network\n",
    "####\n",
    "class Model(nn.Module):\n",
    "    def __init__(self, seq_len, input_size, h_in, device):\n",
    "        super(Model, self).__init__()\n",
    "        \n",
    "        self.num_layers = 1\n",
    "        self.seq_len    = seq_len\n",
    "        self.h_in       = h_in\n",
    "        self.device     = device\n",
    "        self.input_size = input_size\n",
    "        \n",
    "        self.lstm = nn.LSTM(input_size = self.input_size, \n",
    "                            hidden_size = self.h_in, \n",
    "                            num_layers = self.num_layers,\n",
    "                            batch_first=True\n",
    "                           )\n",
    "        \n",
    "        self.fc1 = nn.Linear(h_in, 64)\n",
    "        self.bn1 = nn.BatchNorm1d(64)\n",
    "        self.fc2 = nn.Linear(64, 32)\n",
    "        self.bn2 = nn.BatchNorm1d(32)\n",
    "        self.fc3 = nn.Linear(32, 16)\n",
    "        self.bn3 = nn.BatchNorm1d(16)\n",
    "        \n",
    "        self.relu = nn.ReLU()\n",
    "        \n",
    "        self.fc = nn.Linear(16, 1)\n",
    "        \n",
    "    def forward(self, x):\n",
    "        output, (hn, cn) = self.lstm(x.float())\n",
    "#         out = cn.view(-1, self.h_in)\n",
    "        out = torch.mean(output, axis=1)\n",
    "        out = self.fc1(out)\n",
    "        out = self.bn1(out)\n",
    "        out = self.relu(out)\n",
    "        out = self.fc2(out)\n",
    "        out = self.bn2(out)\n",
    "        out = self.relu(out)\n",
    "        out = self.fc3(out)\n",
    "        out = self.bn3(out)\n",
    "#         out = self.relu(out)\n",
    "        out = self.fc(out).view(len(x))\n",
    "        \n",
    "        return out"
   ]
  },
  {
   "cell_type": "code",
   "execution_count": 194,
   "metadata": {},
   "outputs": [
    {
     "data": {
      "text/plain": [
       "torch.Size([32, 50])"
      ]
     },
     "execution_count": 194,
     "metadata": {},
     "output_type": "execute_result"
    }
   ],
   "source": [
    "torch.mean(torch.rand(32, 600, 50), axis=1).shape"
   ]
  },
  {
   "cell_type": "code",
   "execution_count": 196,
   "metadata": {},
   "outputs": [],
   "source": [
    "#####\n",
    "# Model Trainer\n",
    "#####\n",
    "\n",
    "class ModelBuilder:\n",
    "    def __init__(self, nlp, seq_len):\n",
    "        self.seq_len = seq_len\n",
    "        self.nlp = nlp\n",
    "        self.embed_dim = 300\n",
    "        \n",
    "    def get_features(self, texts):\n",
    "        with self.nlp.disable_pipes():\n",
    "            nlp_texts = [self.nlp(text) for text in texts]\n",
    "        feats = np.zeros((len(nlp_texts), self.seq_len, self.embed_dim))\n",
    "\n",
    "        for i in range(len(nlp_texts)):\n",
    "            text = nlp_texts[i]\n",
    "            feats[i][0:min(len(text), self.seq_len)] = [word.vector for word in text[0:min(len(text), self.seq_len)]]\n",
    "            \n",
    "        return feats\n",
    "    \n",
    "    def get_data_loaders(self, feats, labels, test_size=0.1, train_args={}, test_args={}):\n",
    "        X_train, X_test, y_train, y_test = train_test_split(feats, labels, test_size=test_size)\n",
    "        \n",
    "        dataloader_train = DataLoader(list(zip(X_train, y_train)), **train_args)\n",
    "        dataloader_test  = DataLoader(list(zip(X_test, y_test)), **test_args)\n",
    "        \n",
    "        return dataloader_train, dataloader_test\n",
    "        \n",
    "        \n",
    "    def train(self, model, train, test, optimizer, criterion, num_epochs, device):\n",
    "        train_losses = []\n",
    "        test_losses  = []\n",
    "        \n",
    "        model = model.to(device)\n",
    "        \n",
    "        for epoch in range(num_epochs):\n",
    "            sleep(1)\n",
    "            train_loss = 0\n",
    "            test_loss = 0\n",
    "            n = 0\n",
    "            n_test = 0\n",
    "            \n",
    "            tq = tqdm(train)\n",
    "            it_str = 'Epoch {0: d}, Train MSE: {1: 5.6f}'\n",
    "            tq.set_description(it_str.format(epoch + 1, float(0)))\n",
    "            \n",
    "            \n",
    "            model.train()\n",
    "            for inputs, targets in tq:\n",
    "                inputs, targets = inputs.to(device).float(), targets.to(device).float()\n",
    "                \n",
    "                optimizer.zero_grad()\n",
    "                \n",
    "                outputs = model(inputs)\n",
    "                loss = criterion(outputs, targets)\n",
    "                \n",
    "                loss.backward()\n",
    "                optimizer.step()\n",
    "                \n",
    "                train_loss += loss.item() * len(inputs)\n",
    "                n += len(inputs)\n",
    "                tq.set_description(it_str.format(epoch + 1, train_loss / n))\n",
    "                \n",
    "            model.eval()\n",
    "            \n",
    "            with torch.no_grad():\n",
    "                for inputs, targets in test:\n",
    "                    inputs, targets = inputs.to(device).float(), targets.to(device).float()\n",
    "                    outputs = model(inputs)\n",
    "                    \n",
    "                    loss = criterion(outputs, targets)\n",
    "                    \n",
    "                    test_loss += loss.item() * len(inputs)\n",
    "                    n_test += len(inputs)\n",
    "            \n",
    "            print('Test MSE: {0: 5.6f}, Test RMSE: {1: 5.6f}'.format(test_loss / n_test, np.sqrt(test_loss / n_test)))\n",
    "            \n",
    "            train_losses.append(train_loss)\n",
    "            test_losses.append(test_loss)\n",
    "        \n",
    "        return model, {'train_losses': train_losses, 'test_losses': test_losses}\n",
    "                    \n",
    "                \n",
    "        "
   ]
  },
  {
   "cell_type": "code",
   "execution_count": 200,
   "metadata": {},
   "outputs": [],
   "source": [
    "wd = './'\n",
    "train_path = wd + 'train.csv'\n",
    "random_state = 1\n",
    "seq_len = 600\n",
    "input_size = 300\n",
    "h_in = 300"
   ]
  },
  {
   "cell_type": "code",
   "execution_count": 89,
   "metadata": {},
   "outputs": [],
   "source": [
    "np.random.seed(random_state)"
   ]
  },
  {
   "cell_type": "code",
   "execution_count": 90,
   "metadata": {},
   "outputs": [],
   "source": [
    "data = pd.read_csv(train_path)"
   ]
  },
  {
   "cell_type": "code",
   "execution_count": 9,
   "metadata": {},
   "outputs": [
    {
     "data": {
      "text/plain": [
       "count    2834.000000\n",
       "mean       -0.959319\n",
       "std         1.033579\n",
       "min        -3.676268\n",
       "25%        -1.690320\n",
       "50%        -0.912190\n",
       "75%        -0.202540\n",
       "max         1.711390\n",
       "Name: target, dtype: float64"
      ]
     },
     "execution_count": 9,
     "metadata": {},
     "output_type": "execute_result"
    }
   ],
   "source": [
    "data['target'].describe()"
   ]
  },
  {
   "cell_type": "code",
   "execution_count": 10,
   "metadata": {},
   "outputs": [
    {
     "data": {
      "text/plain": [
       "0       0.464009\n",
       "1       0.480805\n",
       "2       0.476676\n",
       "3       0.450007\n",
       "4       0.510845\n",
       "          ...   \n",
       "2829    0.646900\n",
       "2830    0.535648\n",
       "2831    0.483866\n",
       "2832    0.514128\n",
       "2833    0.512379\n",
       "Name: standard_error, Length: 2834, dtype: float64"
      ]
     },
     "execution_count": 10,
     "metadata": {},
     "output_type": "execute_result"
    }
   ],
   "source": [
    "data['standard_error']"
   ]
  },
  {
   "cell_type": "code",
   "execution_count": 11,
   "metadata": {},
   "outputs": [
    {
     "data": {
      "image/png": "[encoded data removed]",
      "text/plain": [
       "<Figure size 432x288 with 1 Axes>"
      ]
     },
     "metadata": {
      "needs_background": "light"
     },
     "output_type": "display_data"
    }
   ],
   "source": [
    "hist1 = plt.hist(data['target'], bins=50)\n",
    "plt.show()"
   ]
  },
  {
   "cell_type": "code",
   "execution_count": 12,
   "metadata": {},
   "outputs": [],
   "source": [
    "nlp = spacy.load(\"en_core_web_lg\")\n",
    "modelbuild = ModelBuilder(nlp, seq_len)"
   ]
  },
  {
   "cell_type": "code",
   "execution_count": null,
   "metadata": {},
   "outputs": [],
   "source": [
    "feat = modelbuild.get_features(data['excerpt'])"
   ]
  },
  {
   "cell_type": "code",
   "execution_count": 242,
   "metadata": {},
   "outputs": [],
   "source": [
    "train, test = modelbuild.get_data_loaders(feat, data['target'], 0.1, \n",
    "                                          train_args={'batch_size':32, 'shuffle':True},\n",
    "                                          test_args={'batch_size': 32})"
   ]
  },
  {
   "cell_type": "code",
   "execution_count": 250,
   "metadata": {},
   "outputs": [],
   "source": [
    "criterion = nn.MSELoss()\n",
    "device = torch.device('cuda' if torch.cuda.is_available() else 'cpu')\n",
    "model = Model(seq_len,  input_size, h_in, device)\n",
    "optimizer = optim.SGD(model.parameters(), lr=0.001, momentum=0.9, weight_decay=1e-5)"
   ]
  },
  {
   "cell_type": "code",
   "execution_count": 251,
   "metadata": {},
   "outputs": [
    {
     "name": "stderr",
     "output_type": "stream",
     "text": [
      "Epoch  1, Train MSE:  0.790446: 100%|██████████| 80/80 [00:04<00:00, 19.46it/s]\n"
     ]
    },
    {
     "name": "stdout",
     "output_type": "stream",
     "text": [
      "Test MSE:  0.652038, Test RMSE:  0.807489\n"
     ]
    },
    {
     "name": "stderr",
     "output_type": "stream",
     "text": [
      "Epoch  2, Train MSE:  0.458457: 100%|██████████| 80/80 [00:04<00:00, 19.71it/s]\n"
     ]
    },
    {
     "name": "stdout",
     "output_type": "stream",
     "text": [
      "Test MSE:  0.492226, Test RMSE:  0.701588\n"
     ]
    },
    {
     "name": "stderr",
     "output_type": "stream",
     "text": [
      "Epoch  3, Train MSE:  0.415617: 100%|██████████| 80/80 [00:04<00:00, 19.70it/s]\n"
     ]
    },
    {
     "name": "stdout",
     "output_type": "stream",
     "text": [
      "Test MSE:  0.537757, Test RMSE:  0.733319\n"
     ]
    },
    {
     "name": "stderr",
     "output_type": "stream",
     "text": [
      "Epoch  4, Train MSE:  0.402427: 100%|██████████| 80/80 [00:04<00:00, 19.41it/s]\n"
     ]
    },
    {
     "name": "stdout",
     "output_type": "stream",
     "text": [
      "Test MSE:  0.462787, Test RMSE:  0.680285\n"
     ]
    },
    {
     "name": "stderr",
     "output_type": "stream",
     "text": [
      "Epoch  5, Train MSE:  0.355033: 100%|██████████| 80/80 [00:04<00:00, 19.72it/s]\n"
     ]
    },
    {
     "name": "stdout",
     "output_type": "stream",
     "text": [
      "Test MSE:  0.498087, Test RMSE:  0.705753\n"
     ]
    },
    {
     "name": "stderr",
     "output_type": "stream",
     "text": [
      "Epoch  6, Train MSE:  0.345988: 100%|██████████| 80/80 [00:04<00:00, 19.44it/s]\n"
     ]
    },
    {
     "name": "stdout",
     "output_type": "stream",
     "text": [
      "Test MSE:  0.495681, Test RMSE:  0.704046\n"
     ]
    },
    {
     "name": "stderr",
     "output_type": "stream",
     "text": [
      "Epoch  7, Train MSE:  0.322588: 100%|██████████| 80/80 [00:04<00:00, 19.67it/s]\n"
     ]
    },
    {
     "name": "stdout",
     "output_type": "stream",
     "text": [
      "Test MSE:  0.481965, Test RMSE:  0.694237\n"
     ]
    },
    {
     "name": "stderr",
     "output_type": "stream",
     "text": [
      "Epoch  8, Train MSE:  0.298836: 100%|██████████| 80/80 [00:04<00:00, 19.34it/s]\n"
     ]
    },
    {
     "name": "stdout",
     "output_type": "stream",
     "text": [
      "Test MSE:  0.922051, Test RMSE:  0.960235\n"
     ]
    },
    {
     "name": "stderr",
     "output_type": "stream",
     "text": [
      "Epoch  9, Train MSE:  0.286375: 100%|██████████| 80/80 [00:04<00:00, 19.54it/s]\n"
     ]
    },
    {
     "name": "stdout",
     "output_type": "stream",
     "text": [
      "Test MSE:  0.699017, Test RMSE:  0.836073\n"
     ]
    },
    {
     "name": "stderr",
     "output_type": "stream",
     "text": [
      "Epoch  10, Train MSE:  0.277940: 100%|██████████| 80/80 [00:04<00:00, 18.91it/s]\n"
     ]
    },
    {
     "name": "stdout",
     "output_type": "stream",
     "text": [
      "Test MSE:  0.507644, Test RMSE:  0.712491\n"
     ]
    },
    {
     "name": "stderr",
     "output_type": "stream",
     "text": [
      "Epoch  11, Train MSE:  0.274159: 100%|██████████| 80/80 [00:03<00:00, 20.08it/s]\n"
     ]
    },
    {
     "name": "stdout",
     "output_type": "stream",
     "text": [
      "Test MSE:  0.754558, Test RMSE:  0.868653\n"
     ]
    },
    {
     "name": "stderr",
     "output_type": "stream",
     "text": [
      "Epoch  12, Train MSE:  0.251243: 100%|██████████| 80/80 [00:04<00:00, 19.94it/s]\n"
     ]
    },
    {
     "name": "stdout",
     "output_type": "stream",
     "text": [
      "Test MSE:  0.525931, Test RMSE:  0.725211\n"
     ]
    },
    {
     "name": "stderr",
     "output_type": "stream",
     "text": [
      "Epoch  13, Train MSE:  0.234162: 100%|██████████| 80/80 [00:04<00:00, 19.21it/s]\n"
     ]
    },
    {
     "name": "stdout",
     "output_type": "stream",
     "text": [
      "Test MSE:  0.501150, Test RMSE:  0.707920\n"
     ]
    },
    {
     "name": "stderr",
     "output_type": "stream",
     "text": [
      "Epoch  14, Train MSE:  0.224163: 100%|██████████| 80/80 [00:04<00:00, 19.44it/s]\n"
     ]
    },
    {
     "name": "stdout",
     "output_type": "stream",
     "text": [
      "Test MSE:  0.569177, Test RMSE:  0.754438\n"
     ]
    },
    {
     "name": "stderr",
     "output_type": "stream",
     "text": [
      "Epoch  15, Train MSE:  0.228003: 100%|██████████| 80/80 [00:04<00:00, 20.00it/s]\n"
     ]
    },
    {
     "name": "stdout",
     "output_type": "stream",
     "text": [
      "Test MSE:  0.537608, Test RMSE:  0.733218\n"
     ]
    },
    {
     "name": "stderr",
     "output_type": "stream",
     "text": [
      "Epoch  16, Train MSE:  0.202902: 100%|██████████| 80/80 [00:04<00:00, 19.90it/s]\n"
     ]
    },
    {
     "name": "stdout",
     "output_type": "stream",
     "text": [
      "Test MSE:  0.731313, Test RMSE:  0.855168\n"
     ]
    },
    {
     "name": "stderr",
     "output_type": "stream",
     "text": [
      "Epoch  17, Train MSE:  0.188884: 100%|██████████| 80/80 [00:04<00:00, 19.36it/s]\n"
     ]
    },
    {
     "name": "stdout",
     "output_type": "stream",
     "text": [
      "Test MSE:  0.566350, Test RMSE:  0.752562\n"
     ]
    },
    {
     "name": "stderr",
     "output_type": "stream",
     "text": [
      "Epoch  18, Train MSE:  0.194167: 100%|██████████| 80/80 [00:04<00:00, 18.80it/s]\n"
     ]
    },
    {
     "name": "stdout",
     "output_type": "stream",
     "text": [
      "Test MSE:  0.587841, Test RMSE:  0.766708\n"
     ]
    },
    {
     "name": "stderr",
     "output_type": "stream",
     "text": [
      "Epoch  19, Train MSE:  0.183423: 100%|██████████| 80/80 [00:04<00:00, 19.30it/s]\n"
     ]
    },
    {
     "name": "stdout",
     "output_type": "stream",
     "text": [
      "Test MSE:  0.635802, Test RMSE:  0.797372\n"
     ]
    },
    {
     "name": "stderr",
     "output_type": "stream",
     "text": [
      "Epoch  20, Train MSE:  0.173473: 100%|██████████| 80/80 [00:04<00:00, 19.94it/s]\n"
     ]
    },
    {
     "name": "stdout",
     "output_type": "stream",
     "text": [
      "Test MSE:  0.561119, Test RMSE:  0.749079\n"
     ]
    },
    {
     "name": "stderr",
     "output_type": "stream",
     "text": [
      "Epoch  21, Train MSE:  0.168316: 100%|██████████| 80/80 [00:03<00:00, 20.10it/s]\n"
     ]
    },
    {
     "name": "stdout",
     "output_type": "stream",
     "text": [
      "Test MSE:  0.641872, Test RMSE:  0.801169\n"
     ]
    },
    {
     "name": "stderr",
     "output_type": "stream",
     "text": [
      "Epoch  22, Train MSE:  0.165063: 100%|██████████| 80/80 [00:03<00:00, 20.05it/s]\n"
     ]
    },
    {
     "name": "stdout",
     "output_type": "stream",
     "text": [
      "Test MSE:  0.589261, Test RMSE:  0.767633\n"
     ]
    },
    {
     "name": "stderr",
     "output_type": "stream",
     "text": [
      "Epoch  23, Train MSE:  0.154350: 100%|██████████| 80/80 [00:03<00:00, 20.03it/s]\n"
     ]
    },
    {
     "name": "stdout",
     "output_type": "stream",
     "text": [
      "Test MSE:  0.592320, Test RMSE:  0.769623\n"
     ]
    },
    {
     "name": "stderr",
     "output_type": "stream",
     "text": [
      "Epoch  24, Train MSE:  0.152391: 100%|██████████| 80/80 [00:03<00:00, 20.07it/s]\n"
     ]
    },
    {
     "name": "stdout",
     "output_type": "stream",
     "text": [
      "Test MSE:  0.647185, Test RMSE:  0.804478\n"
     ]
    },
    {
     "name": "stderr",
     "output_type": "stream",
     "text": [
      "Epoch  25, Train MSE:  0.161095: 100%|██████████| 80/80 [00:03<00:00, 20.07it/s]\n"
     ]
    },
    {
     "name": "stdout",
     "output_type": "stream",
     "text": [
      "Test MSE:  0.592047, Test RMSE:  0.769446\n"
     ]
    },
    {
     "name": "stderr",
     "output_type": "stream",
     "text": [
      "Epoch  26, Train MSE:  0.141887: 100%|██████████| 80/80 [00:03<00:00, 20.08it/s]\n"
     ]
    },
    {
     "name": "stdout",
     "output_type": "stream",
     "text": [
      "Test MSE:  0.632523, Test RMSE:  0.795313\n"
     ]
    },
    {
     "name": "stderr",
     "output_type": "stream",
     "text": [
      "Epoch  27, Train MSE:  0.137076: 100%|██████████| 80/80 [00:03<00:00, 20.10it/s]\n"
     ]
    },
    {
     "name": "stdout",
     "output_type": "stream",
     "text": [
      "Test MSE:  0.713784, Test RMSE:  0.844858\n"
     ]
    },
    {
     "name": "stderr",
     "output_type": "stream",
     "text": [
      "Epoch  28, Train MSE:  0.130919: 100%|██████████| 80/80 [00:03<00:00, 20.10it/s]\n"
     ]
    },
    {
     "name": "stdout",
     "output_type": "stream",
     "text": [
      "Test MSE:  0.975104, Test RMSE:  0.987473\n"
     ]
    },
    {
     "name": "stderr",
     "output_type": "stream",
     "text": [
      "Epoch  29, Train MSE:  0.128637: 100%|██████████| 80/80 [00:03<00:00, 20.08it/s]\n"
     ]
    },
    {
     "name": "stdout",
     "output_type": "stream",
     "text": [
      "Test MSE:  0.614895, Test RMSE:  0.784152\n"
     ]
    },
    {
     "name": "stderr",
     "output_type": "stream",
     "text": [
      "Epoch  30, Train MSE:  0.134289: 100%|██████████| 80/80 [00:03<00:00, 20.12it/s]\n"
     ]
    },
    {
     "name": "stdout",
     "output_type": "stream",
     "text": [
      "Test MSE:  0.540851, Test RMSE:  0.735426\n"
     ]
    },
    {
     "name": "stderr",
     "output_type": "stream",
     "text": [
      "Epoch  31, Train MSE:  0.122751: 100%|██████████| 80/80 [00:03<00:00, 20.09it/s]\n"
     ]
    },
    {
     "name": "stdout",
     "output_type": "stream",
     "text": [
      "Test MSE:  0.569755, Test RMSE:  0.754821\n"
     ]
    },
    {
     "name": "stderr",
     "output_type": "stream",
     "text": [
      "Epoch  32, Train MSE:  0.127084: 100%|██████████| 80/80 [00:03<00:00, 20.10it/s]\n"
     ]
    },
    {
     "name": "stdout",
     "output_type": "stream",
     "text": [
      "Test MSE:  0.611110, Test RMSE:  0.781735\n"
     ]
    },
    {
     "name": "stderr",
     "output_type": "stream",
     "text": [
      "Epoch  33, Train MSE:  0.132257: 100%|██████████| 80/80 [00:04<00:00, 19.83it/s]\n"
     ]
    },
    {
     "name": "stdout",
     "output_type": "stream",
     "text": [
      "Test MSE:  0.590793, Test RMSE:  0.768630\n"
     ]
    },
    {
     "name": "stderr",
     "output_type": "stream",
     "text": [
      "Epoch  34, Train MSE:  0.109774: 100%|██████████| 80/80 [00:03<00:00, 20.12it/s]\n"
     ]
    },
    {
     "name": "stdout",
     "output_type": "stream",
     "text": [
      "Test MSE:  0.634637, Test RMSE:  0.796641\n"
     ]
    },
    {
     "name": "stderr",
     "output_type": "stream",
     "text": [
      "Epoch  35, Train MSE:  0.110292: 100%|██████████| 80/80 [00:03<00:00, 20.19it/s]\n"
     ]
    },
    {
     "name": "stdout",
     "output_type": "stream",
     "text": [
      "Test MSE:  0.564765, Test RMSE:  0.751509\n"
     ]
    },
    {
     "name": "stderr",
     "output_type": "stream",
     "text": [
      "Epoch  36, Train MSE:  0.099325: 100%|██████████| 80/80 [00:03<00:00, 20.05it/s]\n"
     ]
    },
    {
     "name": "stdout",
     "output_type": "stream",
     "text": [
      "Test MSE:  0.547845, Test RMSE:  0.740166\n"
     ]
    },
    {
     "name": "stderr",
     "output_type": "stream",
     "text": [
      "Epoch  37, Train MSE:  0.109593: 100%|██████████| 80/80 [00:03<00:00, 20.14it/s]\n"
     ]
    },
    {
     "name": "stdout",
     "output_type": "stream",
     "text": [
      "Test MSE:  0.595816, Test RMSE:  0.771891\n"
     ]
    },
    {
     "name": "stderr",
     "output_type": "stream",
     "text": [
      "Epoch  38, Train MSE:  0.123940: 100%|██████████| 80/80 [00:04<00:00, 19.98it/s]\n"
     ]
    },
    {
     "name": "stdout",
     "output_type": "stream",
     "text": [
      "Test MSE:  0.624424, Test RMSE:  0.790205\n"
     ]
    },
    {
     "name": "stderr",
     "output_type": "stream",
     "text": [
      "Epoch  39, Train MSE:  0.111169: 100%|██████████| 80/80 [00:04<00:00, 19.97it/s]\n"
     ]
    },
    {
     "name": "stdout",
     "output_type": "stream",
     "text": [
      "Test MSE:  0.990839, Test RMSE:  0.995409\n"
     ]
    },
    {
     "name": "stderr",
     "output_type": "stream",
     "text": [
      "Epoch  40, Train MSE:  0.109457: 100%|██████████| 80/80 [00:04<00:00, 19.97it/s]\n"
     ]
    },
    {
     "name": "stdout",
     "output_type": "stream",
     "text": [
      "Test MSE:  0.693331, Test RMSE:  0.832665\n"
     ]
    },
    {
     "name": "stderr",
     "output_type": "stream",
     "text": [
      "Epoch  41, Train MSE:  0.100641: 100%|██████████| 80/80 [00:04<00:00, 19.68it/s]\n"
     ]
    },
    {
     "name": "stdout",
     "output_type": "stream",
     "text": [
      "Test MSE:  0.584657, Test RMSE:  0.764629\n"
     ]
    },
    {
     "name": "stderr",
     "output_type": "stream",
     "text": [
      "Epoch  42, Train MSE:  0.109243: 100%|██████████| 80/80 [00:04<00:00, 18.94it/s]\n"
     ]
    },
    {
     "name": "stdout",
     "output_type": "stream",
     "text": [
      "Test MSE:  0.745601, Test RMSE:  0.863482\n"
     ]
    },
    {
     "name": "stderr",
     "output_type": "stream",
     "text": [
      "Epoch  43, Train MSE:  0.097390: 100%|██████████| 80/80 [00:03<00:00, 20.07it/s]\n"
     ]
    },
    {
     "name": "stdout",
     "output_type": "stream",
     "text": [
      "Test MSE:  0.564060, Test RMSE:  0.751040\n"
     ]
    },
    {
     "name": "stderr",
     "output_type": "stream",
     "text": [
      "Epoch  44, Train MSE:  0.102370: 100%|██████████| 80/80 [00:03<00:00, 20.15it/s]\n"
     ]
    },
    {
     "name": "stdout",
     "output_type": "stream",
     "text": [
      "Test MSE:  0.556750, Test RMSE:  0.746157\n"
     ]
    },
    {
     "name": "stderr",
     "output_type": "stream",
     "text": [
      "Epoch  45, Train MSE:  0.093544: 100%|██████████| 80/80 [00:03<00:00, 20.06it/s]\n"
     ]
    },
    {
     "name": "stdout",
     "output_type": "stream",
     "text": [
      "Test MSE:  0.602962, Test RMSE:  0.776506\n"
     ]
    },
    {
     "name": "stderr",
     "output_type": "stream",
     "text": [
      "Epoch  46, Train MSE:  0.096822: 100%|██████████| 80/80 [00:03<00:00, 20.10it/s]\n"
     ]
    },
    {
     "name": "stdout",
     "output_type": "stream",
     "text": [
      "Test MSE:  1.096511, Test RMSE:  1.047144\n"
     ]
    },
    {
     "name": "stderr",
     "output_type": "stream",
     "text": [
      "Epoch  47, Train MSE:  0.086870: 100%|██████████| 80/80 [00:03<00:00, 20.19it/s]\n"
     ]
    },
    {
     "name": "stdout",
     "output_type": "stream",
     "text": [
      "Test MSE:  0.635879, Test RMSE:  0.797420\n"
     ]
    },
    {
     "name": "stderr",
     "output_type": "stream",
     "text": [
      "Epoch  48, Train MSE:  0.099489: 100%|██████████| 80/80 [00:03<00:00, 20.12it/s]\n"
     ]
    },
    {
     "name": "stdout",
     "output_type": "stream",
     "text": [
      "Test MSE:  0.560211, Test RMSE:  0.748472\n"
     ]
    },
    {
     "name": "stderr",
     "output_type": "stream",
     "text": [
      "Epoch  49, Train MSE:  0.101065: 100%|██████████| 80/80 [00:03<00:00, 20.15it/s]\n"
     ]
    },
    {
     "name": "stdout",
     "output_type": "stream",
     "text": [
      "Test MSE:  0.532320, Test RMSE:  0.729602\n"
     ]
    },
    {
     "name": "stderr",
     "output_type": "stream",
     "text": [
      "Epoch  50, Train MSE:  0.088814: 100%|██████████| 80/80 [00:03<00:00, 20.07it/s]\n"
     ]
    },
    {
     "name": "stdout",
     "output_type": "stream",
     "text": [
      "Test MSE:  0.561309, Test RMSE:  0.749206\n"
     ]
    },
    {
     "name": "stderr",
     "output_type": "stream",
     "text": [
      "Epoch  51, Train MSE:  0.109318: 100%|██████████| 80/80 [00:03<00:00, 20.16it/s]\n"
     ]
    },
    {
     "name": "stdout",
     "output_type": "stream",
     "text": [
      "Test MSE:  0.550990, Test RMSE:  0.742287\n"
     ]
    },
    {
     "name": "stderr",
     "output_type": "stream",
     "text": [
      "Epoch  52, Train MSE:  0.100128: 100%|██████████| 80/80 [00:03<00:00, 20.12it/s]\n"
     ]
    },
    {
     "name": "stdout",
     "output_type": "stream",
     "text": [
      "Test MSE:  0.552799, Test RMSE:  0.743504\n"
     ]
    },
    {
     "name": "stderr",
     "output_type": "stream",
     "text": [
      "Epoch  53, Train MSE:  0.077419: 100%|██████████| 80/80 [00:03<00:00, 20.12it/s]\n"
     ]
    },
    {
     "name": "stdout",
     "output_type": "stream",
     "text": [
      "Test MSE:  0.589030, Test RMSE:  0.767483\n"
     ]
    },
    {
     "name": "stderr",
     "output_type": "stream",
     "text": [
      "Epoch  54, Train MSE:  0.091816: 100%|██████████| 80/80 [00:03<00:00, 20.17it/s]\n"
     ]
    },
    {
     "name": "stdout",
     "output_type": "stream",
     "text": [
      "Test MSE:  0.563944, Test RMSE:  0.750962\n"
     ]
    },
    {
     "name": "stderr",
     "output_type": "stream",
     "text": [
      "Epoch  55, Train MSE:  0.093919: 100%|██████████| 80/80 [00:03<00:00, 20.11it/s]\n"
     ]
    },
    {
     "name": "stdout",
     "output_type": "stream",
     "text": [
      "Test MSE:  0.537807, Test RMSE:  0.733353\n"
     ]
    },
    {
     "name": "stderr",
     "output_type": "stream",
     "text": [
      "Epoch  56, Train MSE:  0.096898: 100%|██████████| 80/80 [00:03<00:00, 20.02it/s]\n"
     ]
    },
    {
     "name": "stdout",
     "output_type": "stream",
     "text": [
      "Test MSE:  0.538269, Test RMSE:  0.733668\n"
     ]
    },
    {
     "name": "stderr",
     "output_type": "stream",
     "text": [
      "Epoch  57, Train MSE:  0.087164: 100%|██████████| 80/80 [00:04<00:00, 19.39it/s]\n"
     ]
    },
    {
     "name": "stdout",
     "output_type": "stream",
     "text": [
      "Test MSE:  0.524961, Test RMSE:  0.724542\n"
     ]
    },
    {
     "name": "stderr",
     "output_type": "stream",
     "text": [
      "Epoch  58, Train MSE:  0.086211: 100%|██████████| 80/80 [00:04<00:00, 19.15it/s]\n"
     ]
    },
    {
     "name": "stdout",
     "output_type": "stream",
     "text": [
      "Test MSE:  0.641322, Test RMSE:  0.800826\n"
     ]
    },
    {
     "name": "stderr",
     "output_type": "stream",
     "text": [
      "Epoch  59, Train MSE:  0.091651: 100%|██████████| 80/80 [00:04<00:00, 18.58it/s]\n"
     ]
    },
    {
     "name": "stdout",
     "output_type": "stream",
     "text": [
      "Test MSE:  0.556390, Test RMSE:  0.745916\n"
     ]
    },
    {
     "name": "stderr",
     "output_type": "stream",
     "text": [
      "Epoch  60, Train MSE:  0.083510: 100%|██████████| 80/80 [00:04<00:00, 18.64it/s]\n"
     ]
    },
    {
     "name": "stdout",
     "output_type": "stream",
     "text": [
      "Test MSE:  0.547204, Test RMSE:  0.739732\n"
     ]
    },
    {
     "name": "stderr",
     "output_type": "stream",
     "text": [
      "Epoch  61, Train MSE:  0.080012: 100%|██████████| 80/80 [00:04<00:00, 19.87it/s]\n"
     ]
    },
    {
     "name": "stdout",
     "output_type": "stream",
     "text": [
      "Test MSE:  0.571898, Test RMSE:  0.756239\n"
     ]
    },
    {
     "name": "stderr",
     "output_type": "stream",
     "text": [
      "Epoch  62, Train MSE:  0.083098: 100%|██████████| 80/80 [00:04<00:00, 19.95it/s]\n"
     ]
    },
    {
     "name": "stdout",
     "output_type": "stream",
     "text": [
      "Test MSE:  0.537150, Test RMSE:  0.732906\n"
     ]
    },
    {
     "name": "stderr",
     "output_type": "stream",
     "text": [
      "Epoch  63, Train MSE:  0.086760: 100%|██████████| 80/80 [00:03<00:00, 20.02it/s]\n"
     ]
    },
    {
     "name": "stdout",
     "output_type": "stream",
     "text": [
      "Test MSE:  0.556658, Test RMSE:  0.746095\n"
     ]
    },
    {
     "name": "stderr",
     "output_type": "stream",
     "text": [
      "Epoch  64, Train MSE:  0.091783: 100%|██████████| 80/80 [00:04<00:00, 19.70it/s]\n"
     ]
    },
    {
     "name": "stdout",
     "output_type": "stream",
     "text": [
      "Test MSE:  0.580812, Test RMSE:  0.762110\n"
     ]
    },
    {
     "name": "stderr",
     "output_type": "stream",
     "text": [
      "Epoch  65, Train MSE:  0.080715: 100%|██████████| 80/80 [00:04<00:00, 19.34it/s]\n"
     ]
    },
    {
     "name": "stdout",
     "output_type": "stream",
     "text": [
      "Test MSE:  0.552326, Test RMSE:  0.743186\n"
     ]
    },
    {
     "name": "stderr",
     "output_type": "stream",
     "text": [
      "Epoch  66, Train MSE:  0.086101: 100%|██████████| 80/80 [00:04<00:00, 19.61it/s]\n"
     ]
    },
    {
     "name": "stdout",
     "output_type": "stream",
     "text": [
      "Test MSE:  0.661360, Test RMSE:  0.813240\n"
     ]
    },
    {
     "name": "stderr",
     "output_type": "stream",
     "text": [
      "Epoch  67, Train MSE:  0.092474: 100%|██████████| 80/80 [00:04<00:00, 19.87it/s]\n"
     ]
    },
    {
     "name": "stdout",
     "output_type": "stream",
     "text": [
      "Test MSE:  0.586151, Test RMSE:  0.765605\n"
     ]
    },
    {
     "name": "stderr",
     "output_type": "stream",
     "text": [
      "Epoch  68, Train MSE:  0.084420: 100%|██████████| 80/80 [00:04<00:00, 19.26it/s]\n"
     ]
    },
    {
     "name": "stdout",
     "output_type": "stream",
     "text": [
      "Test MSE:  0.728101, Test RMSE:  0.853288\n"
     ]
    },
    {
     "name": "stderr",
     "output_type": "stream",
     "text": [
      "Epoch  69, Train MSE:  0.083880: 100%|██████████| 80/80 [00:04<00:00, 18.91it/s]\n"
     ]
    },
    {
     "name": "stdout",
     "output_type": "stream",
     "text": [
      "Test MSE:  0.622298, Test RMSE:  0.788859\n"
     ]
    },
    {
     "name": "stderr",
     "output_type": "stream",
     "text": [
      "Epoch  70, Train MSE:  0.079649: 100%|██████████| 80/80 [00:04<00:00, 19.45it/s]\n"
     ]
    },
    {
     "name": "stdout",
     "output_type": "stream",
     "text": [
      "Test MSE:  0.546301, Test RMSE:  0.739122\n"
     ]
    },
    {
     "name": "stderr",
     "output_type": "stream",
     "text": [
      "Epoch  71, Train MSE:  0.072385: 100%|██████████| 80/80 [00:04<00:00, 19.67it/s]\n"
     ]
    },
    {
     "name": "stdout",
     "output_type": "stream",
     "text": [
      "Test MSE:  0.526273, Test RMSE:  0.725446\n"
     ]
    },
    {
     "name": "stderr",
     "output_type": "stream",
     "text": [
      "Epoch  72, Train MSE:  0.074477: 100%|██████████| 80/80 [00:04<00:00, 19.43it/s]\n"
     ]
    },
    {
     "name": "stdout",
     "output_type": "stream",
     "text": [
      "Test MSE:  0.635196, Test RMSE:  0.796992\n"
     ]
    },
    {
     "name": "stderr",
     "output_type": "stream",
     "text": [
      "Epoch  73, Train MSE:  0.074665: 100%|██████████| 80/80 [00:04<00:00, 19.77it/s]\n"
     ]
    },
    {
     "name": "stdout",
     "output_type": "stream",
     "text": [
      "Test MSE:  0.531296, Test RMSE:  0.728901\n"
     ]
    },
    {
     "name": "stderr",
     "output_type": "stream",
     "text": [
      "Epoch  74, Train MSE:  0.085252: 100%|██████████| 80/80 [00:04<00:00, 19.80it/s]\n"
     ]
    },
    {
     "name": "stdout",
     "output_type": "stream",
     "text": [
      "Test MSE:  0.511543, Test RMSE:  0.715222\n"
     ]
    },
    {
     "name": "stderr",
     "output_type": "stream",
     "text": [
      "Epoch  75, Train MSE:  0.076822: 100%|██████████| 80/80 [00:04<00:00, 19.45it/s]\n"
     ]
    },
    {
     "name": "stdout",
     "output_type": "stream",
     "text": [
      "Test MSE:  0.577807, Test RMSE:  0.760136\n"
     ]
    },
    {
     "name": "stderr",
     "output_type": "stream",
     "text": [
      "Epoch  76, Train MSE:  0.067206:  85%|████████▌ | 68/80 [00:03<00:00, 19.41it/s]\n"
     ]
    },
    {
     "ename": "KeyboardInterrupt",
     "evalue": "",
     "output_type": "error",
     "traceback": [
      "\u001b[0;31m---------------------------------------------------------------------------\u001b[0m",
      "\u001b[0;31mKeyboardInterrupt\u001b[0m                         Traceback (most recent call last)",
      "\u001b[0;32m<ipython-input-251-11e23ed8e96a>\u001b[0m in \u001b[0;36m<module>\u001b[0;34m\u001b[0m\n\u001b[0;32m----> 1\u001b[0;31m \u001b[0mmodelbuild\u001b[0m\u001b[0;34m.\u001b[0m\u001b[0mtrain\u001b[0m\u001b[0;34m(\u001b[0m\u001b[0mmodel\u001b[0m\u001b[0;34m,\u001b[0m \u001b[0mtrain\u001b[0m\u001b[0;34m,\u001b[0m \u001b[0mtest\u001b[0m\u001b[0;34m,\u001b[0m \u001b[0moptimizer\u001b[0m\u001b[0;34m,\u001b[0m \u001b[0mcriterion\u001b[0m\u001b[0;34m,\u001b[0m \u001b[0;36m100\u001b[0m\u001b[0;34m,\u001b[0m \u001b[0mdevice\u001b[0m\u001b[0;34m)\u001b[0m\u001b[0;34m\u001b[0m\u001b[0;34m\u001b[0m\u001b[0m\n\u001b[0m",
      "\u001b[0;32m<ipython-input-196-c524b4870536>\u001b[0m in \u001b[0;36mtrain\u001b[0;34m(self, model, train, test, optimizer, criterion, num_epochs, device)\u001b[0m\n\u001b[1;32m     59\u001b[0m                 \u001b[0moptimizer\u001b[0m\u001b[0;34m.\u001b[0m\u001b[0mstep\u001b[0m\u001b[0;34m(\u001b[0m\u001b[0;34m)\u001b[0m\u001b[0;34m\u001b[0m\u001b[0;34m\u001b[0m\u001b[0m\n\u001b[1;32m     60\u001b[0m \u001b[0;34m\u001b[0m\u001b[0m\n\u001b[0;32m---> 61\u001b[0;31m                 \u001b[0mtrain_loss\u001b[0m \u001b[0;34m+=\u001b[0m \u001b[0mloss\u001b[0m\u001b[0;34m.\u001b[0m\u001b[0mitem\u001b[0m\u001b[0;34m(\u001b[0m\u001b[0;34m)\u001b[0m \u001b[0;34m*\u001b[0m \u001b[0mlen\u001b[0m\u001b[0;34m(\u001b[0m\u001b[0minputs\u001b[0m\u001b[0;34m)\u001b[0m\u001b[0;34m\u001b[0m\u001b[0;34m\u001b[0m\u001b[0m\n\u001b[0m\u001b[1;32m     62\u001b[0m                 \u001b[0mn\u001b[0m \u001b[0;34m+=\u001b[0m \u001b[0mlen\u001b[0m\u001b[0;34m(\u001b[0m\u001b[0minputs\u001b[0m\u001b[0;34m)\u001b[0m\u001b[0;34m\u001b[0m\u001b[0;34m\u001b[0m\u001b[0m\n\u001b[1;32m     63\u001b[0m                 \u001b[0mtq\u001b[0m\u001b[0;34m.\u001b[0m\u001b[0mset_description\u001b[0m\u001b[0;34m(\u001b[0m\u001b[0mit_str\u001b[0m\u001b[0;34m.\u001b[0m\u001b[0mformat\u001b[0m\u001b[0;34m(\u001b[0m\u001b[0mepoch\u001b[0m \u001b[0;34m+\u001b[0m \u001b[0;36m1\u001b[0m\u001b[0;34m,\u001b[0m \u001b[0mtrain_loss\u001b[0m \u001b[0;34m/\u001b[0m \u001b[0mn\u001b[0m\u001b[0;34m)\u001b[0m\u001b[0;34m)\u001b[0m\u001b[0;34m\u001b[0m\u001b[0;34m\u001b[0m\u001b[0m\n",
      "\u001b[0;31mKeyboardInterrupt\u001b[0m: "
     ]
    }
   ],
   "source": [
    "modelbuild.train(model, train, test, optimizer, criterion, 100, device)"
   ]
  },
  {
   "cell_type": "code",
   "execution_count": 11,
   "metadata": {},
   "outputs": [],
   "source": [
    "X_train, X_test, y_train, y_test = train_test_split(data_vecs, data_lbls, test_size=0.1)"
   ]
  },
  {
   "cell_type": "code",
   "execution_count": 17,
   "metadata": {},
   "outputs": [
    {
     "data": {
      "text/plain": [
       "1.033396832247627"
      ]
     },
     "execution_count": 17,
     "metadata": {},
     "output_type": "execute_result"
    }
   ],
   "source": [
    "np.sqrt(mean_squared_error(np.full((data.shape[0],),data['target'].mean()), data['target']))"
   ]
  },
  {
   "cell_type": "code",
   "execution_count": 100,
   "metadata": {},
   "outputs": [],
   "source": [
    "params = {\n",
    "    'base_score': 0.5,\n",
    "    'n_estimators': 200,\n",
    "    'max_depth': 2,\n",
    "    'learning_rate': 0.1,\n",
    "    'verbosity': 1,2\n",
    "    'random_state': random_state\n",
    "}\n",
    "model = xgb.XGBRegressor(objective=\"reg:squarederror\", **params)"
   ]
  },
  {
   "cell_type": "code",
   "execution_count": 101,
   "metadata": {},
   "outputs": [
    {
     "data": {
      "text/plain": [
       "XGBRegressor(base_score=0.5, booster='gbtree', colsample_bylevel=1,\n",
       "             colsample_bynode=1, colsample_bytree=1, gamma=0, gpu_id=-1,\n",
       "             importance_type='gain', interaction_constraints='',\n",
       "             learning_rate=0.1, max_delta_step=0, max_depth=2,\n",
       "             min_child_weight=1, missing=nan, monotone_constraints='()',\n",
       "             n_estimators=200, n_jobs=8, num_parallel_tree=1, random_state=1,\n",
       "             reg_alpha=0, reg_lambda=1, scale_pos_weight=1, subsample=1,\n",
       "             tree_method='exact', validate_parameters=1, verbosity=1)"
      ]
     },
     "execution_count": 101,
     "metadata": {},
     "output_type": "execute_result"
    }
   ],
   "source": [
    "model.fit(X_train,y_train)"
   ]
  },
  {
   "cell_type": "code",
   "execution_count": 102,
   "metadata": {},
   "outputs": [],
   "source": [
    "y_pred = model.predict(X_test)"
   ]
  },
  {
   "cell_type": "code",
   "execution_count": 104,
   "metadata": {},
   "outputs": [
    {
     "data": {
      "text/plain": [
       "0.6603736247497498"
      ]
     },
     "execution_count": 104,
     "metadata": {},
     "output_type": "execute_result"
    }
   ],
   "source": [
    "np.sqrt(mean_squared_error(y_pred, y_test))"
   ]
  }
 ],
 "metadata": {
  "kernelspec": {
   "display_name": "Python 3",
   "language": "python",
   "name": "python3"
  },
  "language_info": {
   "codemirror_mode": {
    "name": "ipython",
    "version": 3
   },
   "file_extension": ".py",
   "mimetype": "text/x-python",
   "name": "python",
   "nbconvert_exporter": "python",
   "pygments_lexer": "ipython3",
   "version": "3.7.9"
  }
 },
 "nbformat": 4,
 "nbformat_minor": 4
}
